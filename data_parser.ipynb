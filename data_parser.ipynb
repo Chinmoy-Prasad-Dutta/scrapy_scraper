{
 "cells": [
  {
   "cell_type": "code",
   "execution_count": 54,
   "metadata": {},
   "outputs": [],
   "source": [
    "import pandas as pd"
   ]
  },
  {
   "cell_type": "code",
   "execution_count": 55,
   "metadata": {},
   "outputs": [],
   "source": [
    "df = pd.read_csv('newproject_1\\\\88.csv')"
   ]
  },
  {
   "cell_type": "code",
   "execution_count": 56,
   "metadata": {},
   "outputs": [
    {
     "data": {
      "text/html": [
       "<div>\n",
       "<style scoped>\n",
       "    .dataframe tbody tr th:only-of-type {\n",
       "        vertical-align: middle;\n",
       "    }\n",
       "\n",
       "    .dataframe tbody tr th {\n",
       "        vertical-align: top;\n",
       "    }\n",
       "\n",
       "    .dataframe thead th {\n",
       "        text-align: right;\n",
       "    }\n",
       "</style>\n",
       "<table border=\"1\" class=\"dataframe\">\n",
       "  <thead>\n",
       "    <tr style=\"text-align: right;\">\n",
       "      <th></th>\n",
       "      <th>name</th>\n",
       "      <th>series_id</th>\n",
       "    </tr>\n",
       "  </thead>\n",
       "  <tbody>\n",
       "    <tr>\n",
       "      <th>0</th>\n",
       "      <td>Borrowings from the Federal Reserve, Seasona...</td>\n",
       "      <td>SEABORRW</td>\n",
       "    </tr>\n",
       "    <tr>\n",
       "      <th>1</th>\n",
       "      <td>Adjustment Plus Seasonal Borrowings of Depos...</td>\n",
       "      <td>ASBORR</td>\n",
       "    </tr>\n",
       "    <tr>\n",
       "      <th>2</th>\n",
       "      <td>Term Auction Credit (DISCONTINUED)</td>\n",
       "      <td>TERMAUC</td>\n",
       "    </tr>\n",
       "    <tr>\n",
       "      <th>3</th>\n",
       "      <td>Borrowings from the Federal Reserve, Other C...</td>\n",
       "      <td>OTHBORRW</td>\n",
       "    </tr>\n",
       "    <tr>\n",
       "      <th>4</th>\n",
       "      <td>Seasonal Borrowings of Depository Institutio...</td>\n",
       "      <td>SEABORR</td>\n",
       "    </tr>\n",
       "    <tr>\n",
       "      <th>...</th>\n",
       "      <td>...</td>\n",
       "      <td>...</td>\n",
       "    </tr>\n",
       "    <tr>\n",
       "      <th>95</th>\n",
       "      <td>Portugal / U.S. Foreign Exchange Rate (DISCO...</td>\n",
       "      <td>EXPOUS</td>\n",
       "    </tr>\n",
       "    <tr>\n",
       "      <th>96</th>\n",
       "      <td>U.S. / Ireland Foreign Exchange Rate (DISCON...</td>\n",
       "      <td>EXUSIR</td>\n",
       "    </tr>\n",
       "    <tr>\n",
       "      <th>97</th>\n",
       "      <td>Austria / U.S. Foreign Exchange Rate (DISCON...</td>\n",
       "      <td>EXAUUS</td>\n",
       "    </tr>\n",
       "    <tr>\n",
       "      <th>98</th>\n",
       "      <td>Belgium / U.S. Foreign Exchange Rate (DISCON...</td>\n",
       "      <td>EXBEUS</td>\n",
       "    </tr>\n",
       "    <tr>\n",
       "      <th>99</th>\n",
       "      <td>Foreign Exchange Rate: Euro Community (DISCO...</td>\n",
       "      <td>EXUSEC</td>\n",
       "    </tr>\n",
       "  </tbody>\n",
       "</table>\n",
       "<p>100 rows × 2 columns</p>\n",
       "</div>"
      ],
      "text/plain": [
       "                                                 name series_id\n",
       "0     Borrowings from the Federal Reserve, Seasona...  SEABORRW\n",
       "1     Adjustment Plus Seasonal Borrowings of Depos...    ASBORR\n",
       "2                  Term Auction Credit (DISCONTINUED)   TERMAUC\n",
       "3     Borrowings from the Federal Reserve, Other C...  OTHBORRW\n",
       "4     Seasonal Borrowings of Depository Institutio...   SEABORR\n",
       "..                                                ...       ...\n",
       "95    Portugal / U.S. Foreign Exchange Rate (DISCO...    EXPOUS\n",
       "96    U.S. / Ireland Foreign Exchange Rate (DISCON...    EXUSIR\n",
       "97    Austria / U.S. Foreign Exchange Rate (DISCON...    EXAUUS\n",
       "98    Belgium / U.S. Foreign Exchange Rate (DISCON...    EXBEUS\n",
       "99    Foreign Exchange Rate: Euro Community (DISCO...    EXUSEC\n",
       "\n",
       "[100 rows x 2 columns]"
      ]
     },
     "execution_count": 56,
     "metadata": {},
     "output_type": "execute_result"
    }
   ],
   "source": [
    "df.head(100)"
   ]
  },
  {
   "cell_type": "code",
   "execution_count": 57,
   "metadata": {},
   "outputs": [],
   "source": [
    "from fredapi import Fred\n",
    "fred = Fred(api_key='df4ca42596ef64e8e2aa5c9d2bbbf6cb')\n"
   ]
  },
  {
   "cell_type": "code",
   "execution_count": 58,
   "metadata": {},
   "outputs": [
    {
     "data": {
      "text/plain": [
       "date\n",
       "2020-10-01    21479.529\n",
       "2021-01-01    22048.894\n",
       "2021-04-01    22722.581\n",
       "2021-07-01    23173.496\n",
       "2021-10-01    23992.355\n",
       "Name: value, dtype: object"
      ]
     },
     "execution_count": 58,
     "metadata": {},
     "output_type": "execute_result"
    }
   ],
   "source": [
    "data = fred.get_series_first_release('GDP')\n",
    "data.tail()"
   ]
  },
  {
   "cell_type": "code",
   "execution_count": 59,
   "metadata": {},
   "outputs": [
    {
     "data": {
      "text/plain": [
       "date\n",
       "2022-03-13        0.0\n",
       "2022-03-14    0.10095\n",
       "2022-03-15    0.10453\n",
       "2022-03-16    0.11053\n",
       "2022-03-17    0.36956\n",
       "Name: value, dtype: object"
      ]
     },
     "execution_count": 59,
     "metadata": {},
     "output_type": "execute_result"
    }
   ],
   "source": [
    "data = fred.get_series_first_release('AMERIBOR')\n",
    "data.tail()"
   ]
  },
  {
   "cell_type": "code",
   "execution_count": 60,
   "metadata": {},
   "outputs": [],
   "source": [
    "df2 = pd.read_csv('newproject_1\\\\88.csv')"
   ]
  },
  {
   "cell_type": "code",
   "execution_count": 61,
   "metadata": {},
   "outputs": [
    {
     "data": {
      "text/html": [
       "<div>\n",
       "<style scoped>\n",
       "    .dataframe tbody tr th:only-of-type {\n",
       "        vertical-align: middle;\n",
       "    }\n",
       "\n",
       "    .dataframe tbody tr th {\n",
       "        vertical-align: top;\n",
       "    }\n",
       "\n",
       "    .dataframe thead th {\n",
       "        text-align: right;\n",
       "    }\n",
       "</style>\n",
       "<table border=\"1\" class=\"dataframe\">\n",
       "  <thead>\n",
       "    <tr style=\"text-align: right;\">\n",
       "      <th></th>\n",
       "      <th>name</th>\n",
       "      <th>series_id</th>\n",
       "    </tr>\n",
       "  </thead>\n",
       "  <tbody>\n",
       "    <tr>\n",
       "      <th>0</th>\n",
       "      <td>Borrowings from the Federal Reserve, Seasona...</td>\n",
       "      <td>SEABORRW</td>\n",
       "    </tr>\n",
       "    <tr>\n",
       "      <th>1</th>\n",
       "      <td>Adjustment Plus Seasonal Borrowings of Depos...</td>\n",
       "      <td>ASBORR</td>\n",
       "    </tr>\n",
       "    <tr>\n",
       "      <th>2</th>\n",
       "      <td>Term Auction Credit (DISCONTINUED)</td>\n",
       "      <td>TERMAUC</td>\n",
       "    </tr>\n",
       "    <tr>\n",
       "      <th>3</th>\n",
       "      <td>Borrowings from the Federal Reserve, Other C...</td>\n",
       "      <td>OTHBORRW</td>\n",
       "    </tr>\n",
       "    <tr>\n",
       "      <th>4</th>\n",
       "      <td>Seasonal Borrowings of Depository Institutio...</td>\n",
       "      <td>SEABORR</td>\n",
       "    </tr>\n",
       "    <tr>\n",
       "      <th>5</th>\n",
       "      <td>Velocity of MZM Money Stock (DISCONTINUED)</td>\n",
       "      <td>MZMV</td>\n",
       "    </tr>\n",
       "    <tr>\n",
       "      <th>6</th>\n",
       "      <td>Time Deposits Adjusted at all Commercial Ban...</td>\n",
       "      <td>M2TDASL</td>\n",
       "    </tr>\n",
       "    <tr>\n",
       "      <th>7</th>\n",
       "      <td>Retail Money Market Funds (DISCONTINUED)</td>\n",
       "      <td>WRMFSL</td>\n",
       "    </tr>\n",
       "    <tr>\n",
       "      <th>8</th>\n",
       "      <td>M1</td>\n",
       "      <td>M1SL</td>\n",
       "    </tr>\n",
       "    <tr>\n",
       "      <th>9</th>\n",
       "      <td>Real User Cost Index of MSI-M2 (alternative)</td>\n",
       "      <td>OCM2A</td>\n",
       "    </tr>\n",
       "  </tbody>\n",
       "</table>\n",
       "</div>"
      ],
      "text/plain": [
       "                                                name series_id\n",
       "0    Borrowings from the Federal Reserve, Seasona...  SEABORRW\n",
       "1    Adjustment Plus Seasonal Borrowings of Depos...    ASBORR\n",
       "2                 Term Auction Credit (DISCONTINUED)   TERMAUC\n",
       "3    Borrowings from the Federal Reserve, Other C...  OTHBORRW\n",
       "4    Seasonal Borrowings of Depository Institutio...   SEABORR\n",
       "5         Velocity of MZM Money Stock (DISCONTINUED)      MZMV\n",
       "6    Time Deposits Adjusted at all Commercial Ban...   M2TDASL\n",
       "7           Retail Money Market Funds (DISCONTINUED)    WRMFSL\n",
       "8                                                 M1      M1SL\n",
       "9       Real User Cost Index of MSI-M2 (alternative)     OCM2A"
      ]
     },
     "execution_count": 61,
     "metadata": {},
     "output_type": "execute_result"
    }
   ],
   "source": [
    "df2.head(10)"
   ]
  },
  {
   "cell_type": "code",
   "execution_count": 62,
   "metadata": {},
   "outputs": [
    {
     "name": "stdout",
     "output_type": "stream",
     "text": [
      "<class 'pandas.core.frame.DataFrame'>\n",
      "RangeIndex: 746 entries, 0 to 745\n",
      "Data columns (total 2 columns):\n",
      " #   Column     Non-Null Count  Dtype \n",
      "---  ------     --------------  ----- \n",
      " 0   name       746 non-null    object\n",
      " 1   series_id  746 non-null    object\n",
      "dtypes: object(2)\n",
      "memory usage: 11.8+ KB\n"
     ]
    }
   ],
   "source": [
    "df2.info()"
   ]
  },
  {
   "cell_type": "code",
   "execution_count": 63,
   "metadata": {},
   "outputs": [],
   "source": [
    "xx = df2.iloc[:,1]\n",
    "xx = xx.replace('(','').replace(')','')  #remove the parenthesis"
   ]
  },
  {
   "cell_type": "code",
   "execution_count": 64,
   "metadata": {},
   "outputs": [
    {
     "data": {
      "text/plain": [
       "0    SEABORRW\n",
       "1      ASBORR\n",
       "2     TERMAUC\n",
       "3    OTHBORRW\n",
       "4     SEABORR\n",
       "Name: series_id, dtype: object"
      ]
     },
     "execution_count": 64,
     "metadata": {},
     "output_type": "execute_result"
    }
   ],
   "source": [
    "xx.head()"
   ]
  },
  {
   "cell_type": "code",
   "execution_count": 65,
   "metadata": {},
   "outputs": [
    {
     "name": "stdout",
     "output_type": "stream",
     "text": [
      "date\n",
      "1975-01-08    19.0\n",
      "1975-01-15    13.0\n",
      "1975-01-22    12.0\n",
      "1975-01-29    10.0\n",
      "1975-02-05    11.0\n",
      "              ... \n",
      "2020-08-12    37.0\n",
      "2020-08-19    41.0\n",
      "2020-08-26    41.0\n",
      "2020-09-02    34.0\n",
      "2020-09-09    34.0\n",
      "Name: value, Length: 2384, dtype: object\n",
      "date\n",
      "1986-01-08    0.612\n",
      "1986-01-15    0.615\n",
      "1986-01-22    0.964\n",
      "1986-01-29    0.841\n",
      "1986-02-05    0.727\n",
      "              ...  \n",
      "2002-12-11    0.209\n",
      "2002-12-18    0.055\n",
      "2002-12-25    0.059\n",
      "2003-01-01    0.045\n",
      "2003-01-08    0.027\n",
      "Name: value, Length: 888, dtype: object\n",
      "date\n",
      "2007-12-01     11.613\n",
      "2008-01-01     44.516\n",
      "2008-02-01       60.0\n",
      "2008-03-01     75.484\n",
      "2008-04-01      100.0\n",
      "2008-05-01    127.419\n",
      "2008-06-01      150.0\n",
      "2008-07-01      150.0\n",
      "2008-08-01      150.0\n",
      "2008-09-01    149.814\n",
      "2008-10-01    244.778\n",
      "2008-11-01    393.088\n",
      "2008-12-01    438.327\n",
      "2009-01-01    403.523\n",
      "2009-02-01    438.822\n",
      "2009-03-01    477.049\n",
      "2009-04-01    444.933\n",
      "2009-05-01     403.97\n",
      "2009-06-01    316.868\n",
      "2009-07-01    255.119\n",
      "2009-08-01     224.49\n",
      "2009-09-01    196.731\n",
      "2009-10-01    155.396\n",
      "2009-11-01    110.049\n",
      "2009-12-01     82.014\n",
      "2010-01-01     54.209\n",
      "2010-02-01     23.677\n",
      "2010-03-01      7.286\n",
      "2010-04-01      0.796\n",
      "2010-05-01        0.0\n",
      "2010-06-01        0.0\n",
      "2010-07-01        0.0\n",
      "2010-08-01        0.0\n",
      "2010-09-01        0.0\n",
      "2010-10-01        0.0\n",
      "2010-11-01        0.0\n",
      "2010-12-01        0.0\n",
      "2011-01-01        0.0\n",
      "2011-02-01        0.0\n",
      "2011-03-01        0.0\n",
      "2011-04-01        0.0\n",
      "Name: value, dtype: object\n",
      "date\n",
      "2008-03-19     2765.0\n",
      "2008-03-26     2765.0\n",
      "2008-04-02        0.0\n",
      "2008-04-09        0.0\n",
      "2008-04-16        0.0\n",
      "               ...   \n",
      "2020-08-12    82488.0\n",
      "2020-08-19    79339.0\n",
      "2020-08-26    79339.0\n",
      "2020-09-02    77350.0\n",
      "2020-09-09    77350.0\n",
      "Name: value, Length: 652, dtype: object\n"
     ]
    }
   ],
   "source": [
    "for x in xx[0:4]:\n",
    "    data = fred.get_series_first_release(x)\n",
    "    print(data)"
   ]
  },
  {
   "cell_type": "code",
   "execution_count": null,
   "metadata": {},
   "outputs": [],
   "source": []
  }
 ],
 "metadata": {
  "interpreter": {
   "hash": "a8a06a88c203283f01fee15b51f680f2102bbb82cda008c3c62823b4d1bf21af"
  },
  "kernelspec": {
   "display_name": "Python 3.9.10 64-bit",
   "language": "python",
   "name": "python3"
  },
  "language_info": {
   "codemirror_mode": {
    "name": "ipython",
    "version": 3
   },
   "file_extension": ".py",
   "mimetype": "text/x-python",
   "name": "python",
   "nbconvert_exporter": "python",
   "pygments_lexer": "ipython3",
   "version": "3.9.10"
  },
  "orig_nbformat": 4
 },
 "nbformat": 4,
 "nbformat_minor": 2
}
